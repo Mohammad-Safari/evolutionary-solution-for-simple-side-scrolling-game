{
 "cells": [
  {
   "attachments": {},
   "cell_type": "markdown",
   "metadata": {},
   "source": [
    "# Load Levels"
   ]
  },
  {
   "cell_type": "code",
   "execution_count": 30,
   "metadata": {},
   "outputs": [],
   "source": [
    "levels = [open(f\"levels/level{i+1}.txt\", \"r\").readline().strip() for i in range(10)]"
   ]
  },
  {
   "attachments": {},
   "cell_type": "markdown",
   "metadata": {},
   "source": [
    "# Customize Game Class"
   ]
  },
  {
   "cell_type": "code",
   "execution_count": 31,
   "metadata": {},
   "outputs": [],
   "source": [
    "from game import Game\n",
    "\n",
    "RIGHT_DIRECT_MOVE = \"0\"\n",
    "RIGHT_JUMP__MOVE = \"1\"\n",
    "RIGHT_DODGE_MOVE = \"2\"\n",
    "\n",
    "BLANKK = \"_\"\n",
    "GOOMPA = \"G\"\n",
    "LAKIPO = \"L\"\n",
    "MUSHRM = \"M\"\n",
    "\n",
    "\n",
    "class MyGame(Game):\n",
    "    # modified score function\n",
    "    def get_score(\n",
    "        self,\n",
    "        actions,\n",
    "        step_score=1,\n",
    "        honor_score=1,\n",
    "        bonus_score=2,\n",
    "        enemy_encounter_score=2,\n",
    "        win_score=5,\n",
    "        lose_penalty=0,\n",
    "        jump_penalty=0.2,\n",
    "        is_lose_seq_continue_accepted=True,\n",
    "    ):\n",
    "        current_level = self.levels[self.current_level_index]\n",
    "        won = True\n",
    "        score = 0  # previously named step\n",
    "        for step in range(self.current_level_len - 1):\n",
    "            current_step = current_level[step]\n",
    "            if current_step == BLANKK and (\n",
    "                step == 0 or actions[step - 1] != RIGHT_JUMP__MOVE\n",
    "            ):\n",
    "                score += step_score\n",
    "            elif current_step == BLANKK and actions[step - 1] == RIGHT_JUMP__MOVE:\n",
    "                score += step_score - jump_penalty\n",
    "            # bonus encounter state\n",
    "            elif current_step == MUSHRM and actions[step - 1] != RIGHT_JUMP__MOVE:\n",
    "                score += bonus_score\n",
    "            elif current_step == MUSHRM and actions[step - 1] == RIGHT_JUMP__MOVE:\n",
    "                score += step_score\n",
    "            # enemy encounter state\n",
    "            elif current_step == GOOMPA and actions[step - 2] == RIGHT_JUMP__MOVE:\n",
    "                score += step_score + enemy_encounter_score\n",
    "            elif current_step == GOOMPA and actions[step - 1] == RIGHT_JUMP__MOVE:\n",
    "                score += step_score\n",
    "            elif current_step == LAKIPO and actions[step - 1] == RIGHT_DODGE_MOVE:\n",
    "                score += step_score\n",
    "            # lose state\n",
    "            else:\n",
    "                won = False\n",
    "                score -= lose_penalty\n",
    "                if is_lose_seq_continue_accepted:\n",
    "                    continue\n",
    "                else:\n",
    "                    break\n",
    "        # honorable win\n",
    "        if won and actions[len(current_level) - 1] == RIGHT_JUMP__MOVE:\n",
    "            score += honor_score\n",
    "\n",
    "        return won, score + (win_score if won else 0)\n",
    "\n",
    "    # bulk running utilities\n",
    "    def get_score_for_next(self, move):\n",
    "        self.load_next_level()\n",
    "        return self.get_score(move)\n",
    "\n",
    "    def get_score_for_each(self, move_list):\n",
    "        self.current_level_index = -1\n",
    "        self.current_level_len = 0\n",
    "        scores = [self.get_score_for_next(move) for move in move_list]\n",
    "        return scores"
   ]
  },
  {
   "attachments": {},
   "cell_type": "markdown",
   "metadata": {},
   "source": [
    "# Initialization"
   ]
  },
  {
   "cell_type": "code",
   "execution_count": 32,
   "metadata": {},
   "outputs": [],
   "source": [
    "import random\n",
    "import numpy as np\n",
    "\n",
    "\n",
    "def generate_random_string(length, possible_actions=\"012\"):\n",
    "    \"\"\"randomly generates a sequence of given possible_actions\n",
    "\n",
    "    default actions express equal chance of presence for each action in random solution\n",
    "\n",
    "    e.g. you can pass \"0012\" for double chance of direct move presence in random solution\n",
    "    \"\"\"\n",
    "    return \"\".join(random.choice(possible_actions) for i in range(length))\n",
    "\n",
    "\n",
    "INIT_POPULATION_SIZE = 200\n",
    "population = np.array(\n",
    "    [\n",
    "        [generate_random_string(len(l)) for l in levels]\n",
    "        for i in range(INIT_POPULATION_SIZE)\n",
    "    ]\n",
    ")"
   ]
  },
  {
   "attachments": {},
   "cell_type": "markdown",
   "metadata": {},
   "source": [
    "# Selection"
   ]
  },
  {
   "cell_type": "code",
   "execution_count": 33,
   "metadata": {},
   "outputs": [
    {
     "name": "stdout",
     "output_type": "stream",
     "text": [
      "round_wheel_selection (['000', '000'], [3, 3])\n",
      "fitness_based_selection (('222', '000'), (2, 3))\n"
     ]
    }
   ],
   "source": [
    "import math\n",
    "\n",
    "def round_wheel_selection(inputs, scores):\n",
    "    selected_inputs = []\n",
    "    selected_scores = []\n",
    "    points = [random.randint(0, int(sum(scores) - 1)) for i in range(math.ceil(len(inputs) / 2))]\n",
    "    progressive_sum = 0\n",
    "    for i in range(len(inputs)):\n",
    "        for point in points:\n",
    "            if point >= progressive_sum and point < progressive_sum + scores[i]:\n",
    "                selected_inputs.append(inputs[i])\n",
    "                selected_scores.append(scores[i])\n",
    "        progressive_sum += scores[i]\n",
    "    return selected_inputs, selected_scores\n",
    "\n",
    "\n",
    "def fitness_based_selection(inputs, scores):\n",
    "    sorted_inputs, sorted_scores = zip(\n",
    "        *sorted(list(zip(inputs, scores)), key=lambda x: x[1])\n",
    "    )\n",
    "    return sorted_inputs[len(inputs) // 2 :], sorted_scores[len(sorted_scores) // 2 :]\n",
    "\n",
    "\n",
    "# test\n",
    "print(\"round_wheel_selection\", round_wheel_selection([\"111\", \"222\", \"000\"], [1, 2, 3]))\n",
    "print(\"fitness_based_selection\", fitness_based_selection([\"111\", \"222\", \"000\"], [1, 2, 3]))"
   ]
  },
  {
   "attachments": {},
   "cell_type": "markdown",
   "metadata": {},
   "source": [
    "# Recombination"
   ]
  },
  {
   "cell_type": "code",
   "execution_count": 34,
   "metadata": {},
   "outputs": [
    {
     "name": "stdout",
     "output_type": "stream",
     "text": [
      "one point ['122', '200', '011']\n",
      "two point ['120', '201', '012']\n"
     ]
    }
   ],
   "source": [
    "def crossover(parents, points):\n",
    "    points = sorted(points)\n",
    "    # the last point is a helper expressing the end of chromosome(not last gene!)\n",
    "    points.append(len(parents[0])) if points[-1] != len(parents[0]) else None\n",
    "    offsprings = list(parents)\n",
    "    last_point_ind = 0\n",
    "    for round in range(len(points)):\n",
    "        # if points be more that parents\n",
    "        start_parent_ind = round % len(parents)\n",
    "\n",
    "        for child_ind in range(len(offsprings)):\n",
    "            parent_ind = (child_ind + start_parent_ind) % len(parents)\n",
    "            offsprings[child_ind] = (\n",
    "                offsprings[child_ind][:last_point_ind]\n",
    "                + parents[parent_ind][last_point_ind : points[round]]\n",
    "                + parents[child_ind][points[round] :]\n",
    "            )\n",
    "        last_point_ind = points[round]\n",
    "    return offsprings\n",
    "\n",
    "# test\n",
    "print(\"one point\", crossover([\"111\", \"222\", \"000\"],[1]))\n",
    "print(\"two point\", crossover([\"111\", \"222\", \"000\"],[1,2]))"
   ]
  },
  {
   "attachments": {},
   "cell_type": "markdown",
   "metadata": {},
   "source": [
    "# Mutation"
   ]
  },
  {
   "cell_type": "code",
   "execution_count": 35,
   "metadata": {},
   "outputs": [
    {
     "name": "stdout",
     "output_type": "stream",
     "text": [
      "mutate_each_gene ['111', '202']\n",
      "mutate_random_gene ['011', '222']\n"
     ]
    }
   ],
   "source": [
    "def mutate_each_gene(chrom_lst, mut_prob=0.2, actions=\"00012\"):\n",
    "    for chrom_ind in range(len(chrom_lst)):\n",
    "        for gene_ind in range(len(chrom_lst[chrom_ind])):\n",
    "            if random.random() <= mut_prob:\n",
    "                chrom_lst[chrom_ind] = (\n",
    "                    chrom_lst[chrom_ind][:gene_ind]\n",
    "                    + random.choice(actions)\n",
    "                    + chrom_lst[chrom_ind][gene_ind + 1 :]\n",
    "                )\n",
    "    return chrom_lst\n",
    "\n",
    "\n",
    "def mutate_random_gene(chrom_lst, mut_prob=0.2, actions=\"00012\", try_times=1):\n",
    "    for chrom_ind in range(len(chrom_lst)):\n",
    "        if random.random() <= mut_prob:\n",
    "            for try_time in range(try_times):\n",
    "                gene_ind = random.randint(0, chrom_ind - 1) if chrom_ind != 0 else 0\n",
    "                chrom_lst[chrom_ind] = (\n",
    "                    chrom_lst[chrom_ind][:gene_ind]\n",
    "                    + random.choice(actions)\n",
    "                    + chrom_lst[chrom_ind][gene_ind + 1 :]\n",
    "                )\n",
    "    return chrom_lst\n",
    "\n",
    "\n",
    "# test\n",
    "print(\"mutate_each_gene\", mutate_each_gene([\"111\", \"222\"]))\n",
    "print(\"mutate_random_gene\", mutate_random_gene([\"111\", \"222\"]))"
   ]
  },
  {
   "attachments": {},
   "cell_type": "markdown",
   "metadata": {},
   "source": [
    "# Stop Criterion"
   ]
  },
  {
   "cell_type": "code",
   "execution_count": 36,
   "metadata": {},
   "outputs": [],
   "source": [
    "EPSILON = 0.1\n",
    "MAX_GENRATION = 10\n",
    "def check_stop_criterion(generation_number, mean_dif):\n",
    "    return generation_number >= 10 or mean_dif <= 0.1\n",
    "    "
   ]
  },
  {
   "cell_type": "code",
   "execution_count": null,
   "metadata": {},
   "outputs": [],
   "source": [
    "import numpy as np\n",
    "\n",
    "g = MyGame(levels)\n",
    "\n",
    "\n",
    "score_mean = []\n",
    "gn = 0\n",
    "while not check_stop_criterion(gn, score_mean if gn > 1 else 999999):\n",
    "    # bulk running\n",
    "    scores = np.array([g.get_score_for_each(pop) for pop in population])\n",
    "    # selection\n",
    "    sel_pop, sel_scores = round_wheel_selection(population[:, 8], scores[:, 8, 1])\n",
    "    # recombin\n",
    "    off_springs = crossover(sel_pop, [len(sel_pop[0]) // 2])\n",
    "    # mutation\n",
    "    mutated_offsprings = mutate_each_gene(off_springs)\n",
    "    # mutated_offsprings = mutate_randome_gene(off_springs)\n",
    "    # next gen\n",
    "    present_parents, _ = fitness_based_selection(population[:, 8], scores[:, 8, 1])\n",
    "    population[:, 8] = off_springs + list(present_parents)\n",
    "    gn += 1\n",
    "    score_mean.append(\n",
    "        np.mean(\n",
    "            [[result[1] for result in sample] for sample in scores], axis=0\n",
    "        ).reshape(-1, 1)\n",
    "    )"
   ]
  },
  {
   "attachments": {},
   "cell_type": "markdown",
   "metadata": {},
   "source": [
    "# Diagrams"
   ]
  },
  {
   "cell_type": "code",
   "execution_count": null,
   "metadata": {},
   "outputs": [],
   "source": [
    "from matplotlib import pyplot as plt\n",
    "import numpy as np\n",
    "\n",
    "score_changes = np.array([score_mean]*10)\n",
    "\n",
    "fig, ax = plt.subplots(4, 3, figsize=(15, 20))\n",
    "\n",
    "ln = 1\n",
    "for j in range(4):\n",
    "    for i in range(3):\n",
    "        ax[j, i].plot(score_changes[:, ln - 1])\n",
    "        ax[j, i].set_title(f\"level {ln}\")\n",
    "        ln += 1\n",
    "        if ln > 10: break\n",
    "plt.show()"
   ]
  },
  {
   "cell_type": "code",
   "execution_count": null,
   "metadata": {},
   "outputs": [],
   "source": []
  }
 ],
 "metadata": {
  "kernelspec": {
   "display_name": ".venv",
   "language": "python",
   "name": "python3"
  },
  "language_info": {
   "codemirror_mode": {
    "name": "ipython",
    "version": 3
   },
   "file_extension": ".py",
   "mimetype": "text/x-python",
   "name": "python",
   "nbconvert_exporter": "python",
   "pygments_lexer": "ipython3",
   "version": "3.10.11"
  },
  "orig_nbformat": 4
 },
 "nbformat": 4,
 "nbformat_minor": 2
}
